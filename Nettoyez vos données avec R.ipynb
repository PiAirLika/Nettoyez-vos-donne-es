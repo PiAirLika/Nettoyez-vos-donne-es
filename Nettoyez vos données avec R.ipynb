{
 "cells": [
  {
   "cell_type": "markdown",
   "metadata": {},
   "source": [
    "# Importation du fichier csv :"
   ]
  },
  {
   "cell_type": "code",
   "execution_count": 1,
   "metadata": {
    "scrolled": true
   },
   "outputs": [
    {
     "data": {
      "text/html": [
       "<table>\n",
       "<thead><tr><th scope=col>prenom</th><th scope=col>email</th><th scope=col>date_naissance</th><th scope=col>pays</th><th scope=col>taille</th></tr></thead>\n",
       "<tbody>\n",
       "\t<tr><td>Leila                                 </td><td>leila@example.com                     </td><td>23/01/1990                            </td><td>France                                </td><td>1.49m                                 </td></tr>\n",
       "\t<tr><td>Samuel                                </td><td>samuel_329@example.com                </td><td>20/09/2001                            </td><td>NA                                    </td><td>1.67m                                 </td></tr>\n",
       "\t<tr><td>Radia                                 </td><td>choupipoune@supermail.eu              </td><td>12 sept. 1984                         </td><td>Côte d'ivoire                         </td><td>153cm                                 </td></tr>\n",
       "\t<tr><td>Marc                                  </td><td>marco23@example.com, mc23@supermail.eu</td><td>10/02/1978                            </td><td>France                                </td><td>1.65m                                 </td></tr>\n",
       "\t<tr><td>Heri                                  </td><td>helloworld@supermail.eu               </td><td>05/03/2008                            </td><td>Madagascar                            </td><td>1.34m                                 </td></tr>\n",
       "\t<tr><td>Hanna                                 </td><td>hanna2019@supermail.eu                </td><td>01/01/1970                            </td><td>24                                    </td><td>3.45m                                 </td></tr>\n",
       "\t<tr><td>samuël                                </td><td>samuel_329@example.com                </td><td>NA                                    </td><td>Bénin                                 </td><td>1.45m                                 </td></tr>\n",
       "</tbody>\n",
       "</table>\n"
      ],
      "text/latex": [
       "\\begin{tabular}{r|lllll}\n",
       " prenom & email & date\\_naissance & pays & taille\\\\\n",
       "\\hline\n",
       "\t Leila                                  & leila@example.com                      & 23/01/1990                             & France                                 & 1.49m                                 \\\\\n",
       "\t Samuel                                   & samuel\\_329@example.com                 & 20/09/2001                               & NA                                       & 1.67m                                   \\\\\n",
       "\t Radia                                  & choupipoune@supermail.eu               & 12 sept. 1984                          & Côte d'ivoire                          & 153cm                                 \\\\\n",
       "\t Marc                                   & marco23@example.com, mc23@supermail.eu & 10/02/1978                             & France                                 & 1.65m                                 \\\\\n",
       "\t Heri                                   & helloworld@supermail.eu                & 05/03/2008                             & Madagascar                             & 1.34m                                 \\\\\n",
       "\t Hanna                                  & hanna2019@supermail.eu                 & 01/01/1970                             & 24                                     & 3.45m                                 \\\\\n",
       "\t samuël                                   & samuel\\_329@example.com                 & NA                                       & Bénin                                    & 1.45m                                   \\\\\n",
       "\\end{tabular}\n"
      ],
      "text/markdown": [
       "\n",
       "| prenom | email | date_naissance | pays | taille |\n",
       "|---|---|---|---|---|\n",
       "| Leila                                  | leila@example.com                      | 23/01/1990                             | France                                 | 1.49m                                  |\n",
       "| Samuel                                 | samuel_329@example.com                 | 20/09/2001                             | NA                                     | 1.67m                                  |\n",
       "| Radia                                  | choupipoune@supermail.eu               | 12 sept. 1984                          | Côte d'ivoire                          | 153cm                                  |\n",
       "| Marc                                   | marco23@example.com, mc23@supermail.eu | 10/02/1978                             | France                                 | 1.65m                                  |\n",
       "| Heri                                   | helloworld@supermail.eu                | 05/03/2008                             | Madagascar                             | 1.34m                                  |\n",
       "| Hanna                                  | hanna2019@supermail.eu                 | 01/01/1970                             | 24                                     | 3.45m                                  |\n",
       "| samuël                                 | samuel_329@example.com                 | NA                                     | Bénin                                  | 1.45m                                  |\n",
       "\n"
      ],
      "text/plain": [
       "  prenom email                                  date_naissance pays         \n",
       "1 Leila  leila@example.com                      23/01/1990     France       \n",
       "2 Samuel samuel_329@example.com                 20/09/2001     NA           \n",
       "3 Radia  choupipoune@supermail.eu               12 sept. 1984  Côte d'ivoire\n",
       "4 Marc   marco23@example.com, mc23@supermail.eu 10/02/1978     France       \n",
       "5 Heri   helloworld@supermail.eu                05/03/2008     Madagascar   \n",
       "6 Hanna  hanna2019@supermail.eu                 01/01/1970     24           \n",
       "7 samuël samuel_329@example.com                 NA             Bénin        \n",
       "  taille\n",
       "1 1.49m \n",
       "2 1.67m \n",
       "3 153cm \n",
       "4 1.65m \n",
       "5 1.34m \n",
       "6 3.45m \n",
       "7 1.45m "
      ]
     },
     "metadata": {},
     "output_type": "display_data"
    }
   ],
   "source": [
    "data = read.csv(\"personnes.csv\", \n",
    "                stringsAsFactors = FALSE, # pour éviter de travailler avec des Factors et faciliter les traitements\n",
    "                fileEncoding = \"UTF-8\", # spécifier l'encodage du fichier\n",
    "                na.strings=c(\"\",\"NA\")) # afin qu'il considère bien les \"cases vides\" comme des NA\n",
    "head(data, 10)"
   ]
  },
  {
   "cell_type": "markdown",
   "metadata": {},
   "source": [
    "# 1. Détecter les erreurs\n",
    "\n",
    "Détecter les valeurs manquantes :"
   ]
  },
  {
   "cell_type": "code",
   "execution_count": 2,
   "metadata": {},
   "outputs": [
    {
     "data": {
      "text/html": [
       "<dl class=dl-horizontal>\n",
       "\t<dt>prenom</dt>\n",
       "\t\t<dd>0</dd>\n",
       "\t<dt>email</dt>\n",
       "\t\t<dd>0</dd>\n",
       "\t<dt>date_naissance</dt>\n",
       "\t\t<dd>1</dd>\n",
       "\t<dt>pays</dt>\n",
       "\t\t<dd>1</dd>\n",
       "\t<dt>taille</dt>\n",
       "\t\t<dd>0</dd>\n",
       "</dl>\n"
      ],
      "text/latex": [
       "\\begin{description*}\n",
       "\\item[prenom] 0\n",
       "\\item[email] 0\n",
       "\\item[date\\textbackslash{}\\_naissance] 1\n",
       "\\item[pays] 1\n",
       "\\item[taille] 0\n",
       "\\end{description*}\n"
      ],
      "text/markdown": [
       "prenom\n",
       ":   0email\n",
       ":   0date_naissance\n",
       ":   1pays\n",
       ":   1taille\n",
       ":   0\n",
       "\n"
      ],
      "text/plain": [
       "        prenom          email date_naissance           pays         taille \n",
       "             0              0              1              1              0 "
      ]
     },
     "metadata": {},
     "output_type": "display_data"
    }
   ],
   "source": [
    "sapply(data, function(y) sum(is.na(y)))"
   ]
  },
  {
   "cell_type": "markdown",
   "metadata": {},
   "source": [
    "Détecter les doublons :"
   ]
  },
  {
   "cell_type": "code",
   "execution_count": 3,
   "metadata": {},
   "outputs": [
    {
     "data": {
      "text/html": [
       "<ol class=list-inline>\n",
       "\t<li>FALSE</li>\n",
       "\t<li>FALSE</li>\n",
       "\t<li>FALSE</li>\n",
       "\t<li>FALSE</li>\n",
       "\t<li>FALSE</li>\n",
       "\t<li>FALSE</li>\n",
       "\t<li>TRUE</li>\n",
       "</ol>\n"
      ],
      "text/latex": [
       "\\begin{enumerate*}\n",
       "\\item FALSE\n",
       "\\item FALSE\n",
       "\\item FALSE\n",
       "\\item FALSE\n",
       "\\item FALSE\n",
       "\\item FALSE\n",
       "\\item TRUE\n",
       "\\end{enumerate*}\n"
      ],
      "text/markdown": [
       "1. FALSE\n",
       "2. FALSE\n",
       "3. FALSE\n",
       "4. FALSE\n",
       "5. FALSE\n",
       "6. FALSE\n",
       "7. TRUE\n",
       "\n",
       "\n"
      ],
      "text/plain": [
       "[1] FALSE FALSE FALSE FALSE FALSE FALSE  TRUE"
      ]
     },
     "metadata": {},
     "output_type": "display_data"
    }
   ],
   "source": [
    "duplicated(data$email)"
   ]
  },
  {
   "cell_type": "code",
   "execution_count": 4,
   "metadata": {},
   "outputs": [
    {
     "data": {
      "text/html": [
       "<table>\n",
       "<thead><tr><th></th><th scope=col>prenom</th><th scope=col>email</th><th scope=col>date_naissance</th><th scope=col>pays</th><th scope=col>taille</th></tr></thead>\n",
       "<tbody>\n",
       "\t<tr><th scope=row>2</th><td>Samuel                </td><td>samuel_329@example.com</td><td>20/09/2001            </td><td>NA                    </td><td>1.67m                 </td></tr>\n",
       "\t<tr><th scope=row>7</th><td>samuël                </td><td>samuel_329@example.com</td><td>NA                    </td><td>Bénin                 </td><td>1.45m                 </td></tr>\n",
       "</tbody>\n",
       "</table>\n"
      ],
      "text/latex": [
       "\\begin{tabular}{r|lllll}\n",
       "  & prenom & email & date\\_naissance & pays & taille\\\\\n",
       "\\hline\n",
       "\t2 & Samuel                   & samuel\\_329@example.com & 20/09/2001               & NA                       & 1.67m                   \\\\\n",
       "\t7 & samuël                   & samuel\\_329@example.com & NA                       & Bénin                    & 1.45m                   \\\\\n",
       "\\end{tabular}\n"
      ],
      "text/markdown": [
       "\n",
       "| <!--/--> | prenom | email | date_naissance | pays | taille |\n",
       "|---|---|---|---|---|---|\n",
       "| 2 | Samuel                 | samuel_329@example.com | 20/09/2001             | NA                     | 1.67m                  |\n",
       "| 7 | samuël                 | samuel_329@example.com | NA                     | Bénin                  | 1.45m                  |\n",
       "\n"
      ],
      "text/plain": [
       "  prenom email                  date_naissance pays  taille\n",
       "2 Samuel samuel_329@example.com 20/09/2001     NA    1.67m \n",
       "7 samuël samuel_329@example.com NA             Bénin 1.45m "
      ]
     },
     "metadata": {},
     "output_type": "display_data"
    }
   ],
   "source": [
    "data[duplicated(data$email) | duplicated(data$email, fromLast=TRUE),]"
   ]
  },
  {
   "cell_type": "markdown",
   "metadata": {},
   "source": [
    "# 2. Traiter les erreurs\n",
    "\n",
    "## Traiter la variable Pays\n",
    "\n",
    "Pour les pays nous avions un problème majeur qui était la valeur 24 , à la 5ème ligne. La première approche pourrait être de considérer que l'ensemble de mes pays doivent être des chaines de caractères et donc toutes les valeurs numériques doivent être remplacées par des valeurs manquantes. Mais pour faire la chose encore plus \"proprement\", on pourrait définir une liste de pays valides, et remplacer toutes les valeurs qui ne concordent pas avec la liste par des valeurs manquantes :"
   ]
  },
  {
   "cell_type": "code",
   "execution_count": 5,
   "metadata": {},
   "outputs": [
    {
     "data": {
      "text/html": [
       "<table>\n",
       "<thead><tr><th scope=col>prenom</th><th scope=col>email</th><th scope=col>date_naissance</th><th scope=col>pays</th><th scope=col>taille</th></tr></thead>\n",
       "<tbody>\n",
       "\t<tr><td>Leila                                 </td><td>leila@example.com                     </td><td>23/01/1990                            </td><td>France                                </td><td>1.49m                                 </td></tr>\n",
       "\t<tr><td>Samuel                                </td><td>samuel_329@example.com                </td><td>20/09/2001                            </td><td>NA                                    </td><td>1.67m                                 </td></tr>\n",
       "\t<tr><td>Radia                                 </td><td>choupipoune@supermail.eu              </td><td>12 sept. 1984                         </td><td>Côte d'ivoire                         </td><td>153cm                                 </td></tr>\n",
       "\t<tr><td>Marc                                  </td><td>marco23@example.com, mc23@supermail.eu</td><td>10/02/1978                            </td><td>France                                </td><td>1.65m                                 </td></tr>\n",
       "\t<tr><td>Heri                                  </td><td>helloworld@supermail.eu               </td><td>05/03/2008                            </td><td>Madagascar                            </td><td>1.34m                                 </td></tr>\n",
       "\t<tr><td>Hanna                                 </td><td>hanna2019@supermail.eu                </td><td>01/01/1970                            </td><td>NA                                    </td><td>3.45m                                 </td></tr>\n",
       "\t<tr><td>samuël                                </td><td>samuel_329@example.com                </td><td>NA                                    </td><td>Bénin                                 </td><td>1.45m                                 </td></tr>\n",
       "</tbody>\n",
       "</table>\n"
      ],
      "text/latex": [
       "\\begin{tabular}{r|lllll}\n",
       " prenom & email & date\\_naissance & pays & taille\\\\\n",
       "\\hline\n",
       "\t Leila                                  & leila@example.com                      & 23/01/1990                             & France                                 & 1.49m                                 \\\\\n",
       "\t Samuel                                   & samuel\\_329@example.com                 & 20/09/2001                               & NA                                       & 1.67m                                   \\\\\n",
       "\t Radia                                  & choupipoune@supermail.eu               & 12 sept. 1984                          & Côte d'ivoire                          & 153cm                                 \\\\\n",
       "\t Marc                                   & marco23@example.com, mc23@supermail.eu & 10/02/1978                             & France                                 & 1.65m                                 \\\\\n",
       "\t Heri                                   & helloworld@supermail.eu                & 05/03/2008                             & Madagascar                             & 1.34m                                 \\\\\n",
       "\t Hanna                                  & hanna2019@supermail.eu                 & 01/01/1970                             & NA                                     & 3.45m                                 \\\\\n",
       "\t samuël                                   & samuel\\_329@example.com                 & NA                                       & Bénin                                    & 1.45m                                   \\\\\n",
       "\\end{tabular}\n"
      ],
      "text/markdown": [
       "\n",
       "| prenom | email | date_naissance | pays | taille |\n",
       "|---|---|---|---|---|\n",
       "| Leila                                  | leila@example.com                      | 23/01/1990                             | France                                 | 1.49m                                  |\n",
       "| Samuel                                 | samuel_329@example.com                 | 20/09/2001                             | NA                                     | 1.67m                                  |\n",
       "| Radia                                  | choupipoune@supermail.eu               | 12 sept. 1984                          | Côte d'ivoire                          | 153cm                                  |\n",
       "| Marc                                   | marco23@example.com, mc23@supermail.eu | 10/02/1978                             | France                                 | 1.65m                                  |\n",
       "| Heri                                   | helloworld@supermail.eu                | 05/03/2008                             | Madagascar                             | 1.34m                                  |\n",
       "| Hanna                                  | hanna2019@supermail.eu                 | 01/01/1970                             | NA                                     | 3.45m                                  |\n",
       "| samuël                                 | samuel_329@example.com                 | NA                                     | Bénin                                  | 1.45m                                  |\n",
       "\n"
      ],
      "text/plain": [
       "  prenom email                                  date_naissance pays         \n",
       "1 Leila  leila@example.com                      23/01/1990     France       \n",
       "2 Samuel samuel_329@example.com                 20/09/2001     NA           \n",
       "3 Radia  choupipoune@supermail.eu               12 sept. 1984  Côte d'ivoire\n",
       "4 Marc   marco23@example.com, mc23@supermail.eu 10/02/1978     France       \n",
       "5 Heri   helloworld@supermail.eu                05/03/2008     Madagascar   \n",
       "6 Hanna  hanna2019@supermail.eu                 01/01/1970     NA           \n",
       "7 samuël samuel_329@example.com                 NA             Bénin        \n",
       "  taille\n",
       "1 1.49m \n",
       "2 1.67m \n",
       "3 153cm \n",
       "4 1.65m \n",
       "5 1.34m \n",
       "6 3.45m \n",
       "7 1.45m "
      ]
     },
     "metadata": {},
     "output_type": "display_data"
    }
   ],
   "source": [
    "VALID_COUNTRIES = c(\"France\", \"Côte d'ivoire\", \"Madagascar\", \"Bénin\", \"Allemagne\", \"USA\")\n",
    "mask = !data$pays %in% VALID_COUNTRIES\n",
    "data[mask, 'pays'] = NA\n",
    "\n",
    "head(data, 10)"
   ]
  },
  {
   "cell_type": "markdown",
   "metadata": {},
   "source": [
    "## Traiter les emails\n",
    "\n",
    "Au tour des emails maintenant ! Le problème avec cette colonne, c'est qu'il y a parfois 2 adresses email par ligne. Nous ne souhaitons prendre que la première. Nous pouvons là aussi utiliser les outils fournies par R pour faire cela :"
   ]
  },
  {
   "cell_type": "code",
   "execution_count": 6,
   "metadata": {},
   "outputs": [
    {
     "data": {
      "text/html": [
       "<table>\n",
       "<thead><tr><th scope=col>prenom</th><th scope=col>email</th><th scope=col>date_naissance</th><th scope=col>pays</th><th scope=col>taille</th></tr></thead>\n",
       "<tbody>\n",
       "\t<tr><td>Leila                   </td><td>leila@example.com       </td><td>23/01/1990              </td><td>France                  </td><td>1.49m                   </td></tr>\n",
       "\t<tr><td>Samuel                  </td><td>samuel_329@example.com  </td><td>20/09/2001              </td><td>NA                      </td><td>1.67m                   </td></tr>\n",
       "\t<tr><td>Radia                   </td><td>choupipoune@supermail.eu</td><td>12 sept. 1984           </td><td>Côte d'ivoire           </td><td>153cm                   </td></tr>\n",
       "\t<tr><td>Marc                    </td><td>marco23@example.com     </td><td>10/02/1978              </td><td>France                  </td><td>1.65m                   </td></tr>\n",
       "\t<tr><td>Heri                    </td><td>helloworld@supermail.eu </td><td>05/03/2008              </td><td>Madagascar              </td><td>1.34m                   </td></tr>\n",
       "\t<tr><td>Hanna                   </td><td>hanna2019@supermail.eu  </td><td>01/01/1970              </td><td>NA                      </td><td>3.45m                   </td></tr>\n",
       "\t<tr><td>samuël                  </td><td>samuel_329@example.com  </td><td>NA                      </td><td>Bénin                   </td><td>1.45m                   </td></tr>\n",
       "</tbody>\n",
       "</table>\n"
      ],
      "text/latex": [
       "\\begin{tabular}{r|lllll}\n",
       " prenom & email & date\\_naissance & pays & taille\\\\\n",
       "\\hline\n",
       "\t Leila                    & leila@example.com        & 23/01/1990               & France                   & 1.49m                   \\\\\n",
       "\t Samuel                     & samuel\\_329@example.com   & 20/09/2001                 & NA                         & 1.67m                     \\\\\n",
       "\t Radia                    & choupipoune@supermail.eu & 12 sept. 1984            & Côte d'ivoire            & 153cm                   \\\\\n",
       "\t Marc                     & marco23@example.com      & 10/02/1978               & France                   & 1.65m                   \\\\\n",
       "\t Heri                     & helloworld@supermail.eu  & 05/03/2008               & Madagascar               & 1.34m                   \\\\\n",
       "\t Hanna                    & hanna2019@supermail.eu   & 01/01/1970               & NA                       & 3.45m                   \\\\\n",
       "\t samuël                     & samuel\\_329@example.com   & NA                         & Bénin                      & 1.45m                     \\\\\n",
       "\\end{tabular}\n"
      ],
      "text/markdown": [
       "\n",
       "| prenom | email | date_naissance | pays | taille |\n",
       "|---|---|---|---|---|\n",
       "| Leila                    | leila@example.com        | 23/01/1990               | France                   | 1.49m                    |\n",
       "| Samuel                   | samuel_329@example.com   | 20/09/2001               | NA                       | 1.67m                    |\n",
       "| Radia                    | choupipoune@supermail.eu | 12 sept. 1984            | Côte d'ivoire            | 153cm                    |\n",
       "| Marc                     | marco23@example.com      | 10/02/1978               | France                   | 1.65m                    |\n",
       "| Heri                     | helloworld@supermail.eu  | 05/03/2008               | Madagascar               | 1.34m                    |\n",
       "| Hanna                    | hanna2019@supermail.eu   | 01/01/1970               | NA                       | 3.45m                    |\n",
       "| samuël                   | samuel_329@example.com   | NA                       | Bénin                    | 1.45m                    |\n",
       "\n"
      ],
      "text/plain": [
       "  prenom email                    date_naissance pays          taille\n",
       "1 Leila  leila@example.com        23/01/1990     France        1.49m \n",
       "2 Samuel samuel_329@example.com   20/09/2001     NA            1.67m \n",
       "3 Radia  choupipoune@supermail.eu 12 sept. 1984  Côte d'ivoire 153cm \n",
       "4 Marc   marco23@example.com      10/02/1978     France        1.65m \n",
       "5 Heri   helloworld@supermail.eu  05/03/2008     Madagascar    1.34m \n",
       "6 Hanna  hanna2019@supermail.eu   01/01/1970     NA            3.45m \n",
       "7 samuël samuel_329@example.com   NA             Bénin         1.45m "
      ]
     },
     "metadata": {},
     "output_type": "display_data"
    }
   ],
   "source": [
    "data$email = sapply(strsplit(data$email,\",\"), getElement, 1)\n",
    "\n",
    "head(data, 10)"
   ]
  },
  {
   "cell_type": "markdown",
   "metadata": {},
   "source": [
    "## Traiter les tailles\n",
    "\n",
    "Nous aurons besoin d'effectuer deux opérations :\n",
    "\n",
    "1. convertir les tailles en nombre décimal. Nous en profiterons pour remplacer l'ensemble des tailles non conformes par des valeurs manquantes\n",
    "2. remplacer les valeurs manquantes par la moyenne de notre échantillon\n",
    "\n",
    "Pour la première étape, comme l'ensemble de nos valeurs sont censé avoir pour format X.XXm (avec X correspondant à un chiffre), on peut par exemple sélectionner uniquement les 4 premiers caractères et convertir l'ensemble de la colonne en numérique. Ce faisant, les valeurs non valides seront automatiquement remplacées par des valeurs manquantes lors de l'utilisation de la fonction as.numeric :"
   ]
  },
  {
   "cell_type": "code",
   "execution_count": 7,
   "metadata": {},
   "outputs": [
    {
     "name": "stderr",
     "output_type": "stream",
     "text": [
      "Warning message in eval(expr, envir, enclos):\n",
      "\"NAs introduits lors de la conversion automatique\""
     ]
    }
   ],
   "source": [
    "data$taille = substr(data$taille, 1, 4)\n",
    "data$taille = as.numeric(data$taille)"
   ]
  },
  {
   "cell_type": "markdown",
   "metadata": {},
   "source": [
    "Ensuite, il faut à présent remplacer les valeurs manquantes par la moyenne de la variable. Cette simple ligne permettra de faire cela :"
   ]
  },
  {
   "cell_type": "code",
   "execution_count": 8,
   "metadata": {},
   "outputs": [
    {
     "data": {
      "text/html": [
       "<table>\n",
       "<thead><tr><th scope=col>prenom</th><th scope=col>email</th><th scope=col>date_naissance</th><th scope=col>pays</th><th scope=col>taille</th></tr></thead>\n",
       "<tbody>\n",
       "\t<tr><td>Leila                   </td><td>leila@example.com       </td><td>23/01/1990              </td><td>France                  </td><td>1.490000                </td></tr>\n",
       "\t<tr><td>Samuel                  </td><td>samuel_329@example.com  </td><td>20/09/2001              </td><td>NA                      </td><td>1.670000                </td></tr>\n",
       "\t<tr><td>Radia                   </td><td>choupipoune@supermail.eu</td><td>12 sept. 1984           </td><td>Côte d'ivoire           </td><td>1.841667                </td></tr>\n",
       "\t<tr><td>Marc                    </td><td>marco23@example.com     </td><td>10/02/1978              </td><td>France                  </td><td>1.650000                </td></tr>\n",
       "\t<tr><td>Heri                    </td><td>helloworld@supermail.eu </td><td>05/03/2008              </td><td>Madagascar              </td><td>1.340000                </td></tr>\n",
       "\t<tr><td>Hanna                   </td><td>hanna2019@supermail.eu  </td><td>01/01/1970              </td><td>NA                      </td><td>3.450000                </td></tr>\n",
       "\t<tr><td>samuël                  </td><td>samuel_329@example.com  </td><td>NA                      </td><td>Bénin                   </td><td>1.450000                </td></tr>\n",
       "</tbody>\n",
       "</table>\n"
      ],
      "text/latex": [
       "\\begin{tabular}{r|lllll}\n",
       " prenom & email & date\\_naissance & pays & taille\\\\\n",
       "\\hline\n",
       "\t Leila                    & leila@example.com        & 23/01/1990               & France                   & 1.490000                \\\\\n",
       "\t Samuel                     & samuel\\_329@example.com   & 20/09/2001                 & NA                         & 1.670000                  \\\\\n",
       "\t Radia                    & choupipoune@supermail.eu & 12 sept. 1984            & Côte d'ivoire            & 1.841667                \\\\\n",
       "\t Marc                     & marco23@example.com      & 10/02/1978               & France                   & 1.650000                \\\\\n",
       "\t Heri                     & helloworld@supermail.eu  & 05/03/2008               & Madagascar               & 1.340000                \\\\\n",
       "\t Hanna                    & hanna2019@supermail.eu   & 01/01/1970               & NA                       & 3.450000                \\\\\n",
       "\t samuël                     & samuel\\_329@example.com   & NA                         & Bénin                      & 1.450000                  \\\\\n",
       "\\end{tabular}\n"
      ],
      "text/markdown": [
       "\n",
       "| prenom | email | date_naissance | pays | taille |\n",
       "|---|---|---|---|---|\n",
       "| Leila                    | leila@example.com        | 23/01/1990               | France                   | 1.490000                 |\n",
       "| Samuel                   | samuel_329@example.com   | 20/09/2001               | NA                       | 1.670000                 |\n",
       "| Radia                    | choupipoune@supermail.eu | 12 sept. 1984            | Côte d'ivoire            | 1.841667                 |\n",
       "| Marc                     | marco23@example.com      | 10/02/1978               | France                   | 1.650000                 |\n",
       "| Heri                     | helloworld@supermail.eu  | 05/03/2008               | Madagascar               | 1.340000                 |\n",
       "| Hanna                    | hanna2019@supermail.eu   | 01/01/1970               | NA                       | 3.450000                 |\n",
       "| samuël                   | samuel_329@example.com   | NA                       | Bénin                    | 1.450000                 |\n",
       "\n"
      ],
      "text/plain": [
       "  prenom email                    date_naissance pays          taille  \n",
       "1 Leila  leila@example.com        23/01/1990     France        1.490000\n",
       "2 Samuel samuel_329@example.com   20/09/2001     NA            1.670000\n",
       "3 Radia  choupipoune@supermail.eu 12 sept. 1984  Côte d'ivoire 1.841667\n",
       "4 Marc   marco23@example.com      10/02/1978     France        1.650000\n",
       "5 Heri   helloworld@supermail.eu  05/03/2008     Madagascar    1.340000\n",
       "6 Hanna  hanna2019@supermail.eu   01/01/1970     NA            3.450000\n",
       "7 samuël samuel_329@example.com   NA             Bénin         1.450000"
      ]
     },
     "metadata": {},
     "output_type": "display_data"
    }
   ],
   "source": [
    "data$taille[is.na(data$taille)] <- mean(data$taille, na.rm=TRUE)\n",
    "\n",
    "head(data, 10)"
   ]
  },
  {
   "cell_type": "markdown",
   "metadata": {},
   "source": [
    "## Traiter les dates\n",
    "\n",
    "Dernier sujet à traiter et pas des moindres : les dates ! Ici, nous allons simplement spécifier un certain format de date et transformer notre variable dans un type adéquat :"
   ]
  },
  {
   "cell_type": "code",
   "execution_count": 9,
   "metadata": {},
   "outputs": [
    {
     "data": {
      "text/html": [
       "<table>\n",
       "<thead><tr><th scope=col>prenom</th><th scope=col>email</th><th scope=col>date_naissance</th><th scope=col>pays</th><th scope=col>taille</th></tr></thead>\n",
       "<tbody>\n",
       "\t<tr><td>Leila                   </td><td>leila@example.com       </td><td>1990-01-23              </td><td>France                  </td><td>1.490000                </td></tr>\n",
       "\t<tr><td>Samuel                  </td><td>samuel_329@example.com  </td><td>2001-09-20              </td><td>NA                      </td><td>1.670000                </td></tr>\n",
       "\t<tr><td>Radia                   </td><td>choupipoune@supermail.eu</td><td>NA                      </td><td>Côte d'ivoire           </td><td>1.841667                </td></tr>\n",
       "\t<tr><td>Marc                    </td><td>marco23@example.com     </td><td>1978-02-10              </td><td>France                  </td><td>1.650000                </td></tr>\n",
       "\t<tr><td>Heri                    </td><td>helloworld@supermail.eu </td><td>2008-03-05              </td><td>Madagascar              </td><td>1.340000                </td></tr>\n",
       "\t<tr><td>Hanna                   </td><td>hanna2019@supermail.eu  </td><td>1970-01-01              </td><td>NA                      </td><td>3.450000                </td></tr>\n",
       "\t<tr><td>samuël                  </td><td>samuel_329@example.com  </td><td>NA                      </td><td>Bénin                   </td><td>1.450000                </td></tr>\n",
       "</tbody>\n",
       "</table>\n"
      ],
      "text/latex": [
       "\\begin{tabular}{r|lllll}\n",
       " prenom & email & date\\_naissance & pays & taille\\\\\n",
       "\\hline\n",
       "\t Leila                    & leila@example.com        & 1990-01-23               & France                   & 1.490000                \\\\\n",
       "\t Samuel                     & samuel\\_329@example.com   & 2001-09-20                 & NA                         & 1.670000                  \\\\\n",
       "\t Radia                    & choupipoune@supermail.eu & NA                       & Côte d'ivoire            & 1.841667                \\\\\n",
       "\t Marc                     & marco23@example.com      & 1978-02-10               & France                   & 1.650000                \\\\\n",
       "\t Heri                     & helloworld@supermail.eu  & 2008-03-05               & Madagascar               & 1.340000                \\\\\n",
       "\t Hanna                    & hanna2019@supermail.eu   & 1970-01-01               & NA                       & 3.450000                \\\\\n",
       "\t samuël                     & samuel\\_329@example.com   & NA                         & Bénin                      & 1.450000                  \\\\\n",
       "\\end{tabular}\n"
      ],
      "text/markdown": [
       "\n",
       "| prenom | email | date_naissance | pays | taille |\n",
       "|---|---|---|---|---|\n",
       "| Leila                    | leila@example.com        | 1990-01-23               | France                   | 1.490000                 |\n",
       "| Samuel                   | samuel_329@example.com   | 2001-09-20               | NA                       | 1.670000                 |\n",
       "| Radia                    | choupipoune@supermail.eu | NA                       | Côte d'ivoire            | 1.841667                 |\n",
       "| Marc                     | marco23@example.com      | 1978-02-10               | France                   | 1.650000                 |\n",
       "| Heri                     | helloworld@supermail.eu  | 2008-03-05               | Madagascar               | 1.340000                 |\n",
       "| Hanna                    | hanna2019@supermail.eu   | 1970-01-01               | NA                       | 3.450000                 |\n",
       "| samuël                   | samuel_329@example.com   | NA                       | Bénin                    | 1.450000                 |\n",
       "\n"
      ],
      "text/plain": [
       "  prenom email                    date_naissance pays          taille  \n",
       "1 Leila  leila@example.com        1990-01-23     France        1.490000\n",
       "2 Samuel samuel_329@example.com   2001-09-20     NA            1.670000\n",
       "3 Radia  choupipoune@supermail.eu <NA>           Côte d'ivoire 1.841667\n",
       "4 Marc   marco23@example.com      1978-02-10     France        1.650000\n",
       "5 Heri   helloworld@supermail.eu  2008-03-05     Madagascar    1.340000\n",
       "6 Hanna  hanna2019@supermail.eu   1970-01-01     NA            3.450000\n",
       "7 samuël samuel_329@example.com   <NA>           Bénin         1.450000"
      ]
     },
     "metadata": {},
     "output_type": "display_data"
    }
   ],
   "source": [
    "data$date_naissance = as.Date(data$date_naissance , \"%d/%m/%Y\")\n",
    "\n",
    "head(data, 10)"
   ]
  },
  {
   "cell_type": "code",
   "execution_count": null,
   "metadata": {},
   "outputs": [],
   "source": []
  }
 ],
 "metadata": {
  "kernelspec": {
   "display_name": "R",
   "language": "R",
   "name": "ir"
  },
  "language_info": {
   "codemirror_mode": "r",
   "file_extension": ".r",
   "mimetype": "text/x-r-source",
   "name": "R",
   "pygments_lexer": "r",
   "version": "3.6.1"
  }
 },
 "nbformat": 4,
 "nbformat_minor": 4
}
